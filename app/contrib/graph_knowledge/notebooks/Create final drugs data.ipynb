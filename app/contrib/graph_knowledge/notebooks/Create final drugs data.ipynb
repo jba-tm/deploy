{
 "cells": [
  {
   "cell_type": "code",
   "execution_count": 1,
   "metadata": {},
   "outputs": [],
   "source": [
    "import pandas as pd\n",
    "import os\n",
    "import numpy as np"
   ]
  },
  {
   "cell_type": "code",
   "execution_count": 2,
   "metadata": {},
   "outputs": [],
   "source": [
    "drugs_file = \"\\\\\".join(os.path.dirname(os.path.abspath(\"__file__\")).split(\"\\\\\")[0:-1]) + \"\\\\data\\\\Structured data\\\\drugs.csv\"\n",
    "protein_file = \"\\\\\".join(os.path.dirname(os.path.abspath(\"__file__\")).split(\"\\\\\")[0:-1]) + \"\\\\data\\\\Structured data\\\\protien_id.csv\"\n",
    "drugs_side_effects_file = \"\\\\\".join(os.path.dirname(os.path.abspath(\"__file__\")).split(\"\\\\\")[0:-1]) + \"\\\\data\\\\Structured data\\\\drugs-side-effects.xlsx\""
   ]
  },
  {
   "cell_type": "code",
   "execution_count": 3,
   "metadata": {},
   "outputs": [
    {
     "name": "stdout",
     "output_type": "stream",
     "text": [
      "File saved as: c:\\Users\\zeyad\\Documents\\Clinical-Trials-Knowledge-Graph-Project\\data\\Structured data\\target.parquet\n"
     ]
    }
   ],
   "source": [
    "# Read the CSV file into a DataFrame\n",
    "df = pd.read_csv(protein_file)\n",
    "\n",
    "# Split the 'Drug IDs' column into a list of IDs\n",
    "df['Drug IDs'] = df['Drug IDs'].str.split('; ')\n",
    "\n",
    "# Explode the DataFrame\n",
    "df_exploded = df.explode('Drug IDs')\n",
    "\n",
    "# Save the modified DataFrame to a new CSV file\n",
    "new_file_path = \"\\\\\".join(os.path.dirname(os.path.abspath(\"__file__\")).split(\"\\\\\")[0:-1]) + \"\\\\data\\\\Structured data\\\\target.parquet\"  # Replace with your desired new file path\n",
    "df_exploded.to_parquet(new_file_path, engine=\"fastparquet\", index=False)\n",
    "\n",
    "print(\"File saved as:\", new_file_path)"
   ]
  },
  {
   "cell_type": "code",
   "execution_count": 4,
   "metadata": {},
   "outputs": [],
   "source": [
    "# Load the data from the CSV file\n",
    "drugs_1_df = pd.read_csv(drugs_file)\n",
    "\n",
    "# Load the data from the Excel file\n",
    "drugs_2_df = pd.read_excel(drugs_side_effects_file)[['Medicine','Treated Diseases/Conditions','Side effects']]\n",
    "target_dataset = pd.read_parquet(\"\\\\\".join(os.path.dirname(os.path.abspath(\"__file__\")).split(\"\\\\\")[0:-1]) + \"\\\\data\\\\Structured data\\\\target.parquet\", engine='fastparquet')[['Name', 'Gene Name', 'GenBank Protein ID', 'GenBank Gene ID', 'UniProt ID', 'Uniprot Title', 'GenAtlas ID' ,'Species', 'Drug IDs']]\n",
    "\n",
    "\n",
    "\n",
    "# Merge the dataframes\n",
    "\n",
    "merged_df = drugs_1_df.merge(drugs_2_df, left_on='name', right_on='Medicine', how='left')\n",
    "merged_df = merged_df.merge(target_dataset, left_on='ID', right_on='Drug IDs', how='left')\n",
    "\n",
    "\n",
    "# Drop the redundant 'Medicine' column\n",
    "merged_df.drop(['Medicine','Drug IDs'], axis=1, inplace=True)\n",
    "\n",
    "# Identify rows with empty or 'Null' values in 'Treated Diseases/Conditions' and 'Side effects'\n",
    "null_values_df = merged_df[((merged_df['Side effects'] == 'Null') & (merged_df['Treated Diseases/Conditions'] == 'Null')) |\n",
    "                           (merged_df['Side effects'].isna() & merged_df['Treated Diseases/Conditions'].isna()) |\n",
    "                            merged_df['Name'].isna() & \n",
    "                            merged_df['Gene Name'].isna() & \n",
    "                            merged_df['GenBank Protein ID'].isna() & \n",
    "                            merged_df['GenBank Gene ID'].isna() & \n",
    "                            merged_df['UniProt ID'].isna() & \n",
    "                            merged_df['Uniprot Title'].isna()  & \n",
    "                            merged_df['GenAtlas ID'].isna()  & \n",
    "                            merged_df['Species'].isna()]  \n",
    "non_null_values_df = merged_df.drop(null_values_df.index).sort_values(by='name')\n",
    "\n",
    "# Sort the null_values_df by 'name'\n",
    "null_values_df = null_values_df.sort_values(by='name')\n",
    "\n",
    "# Concatenate the dataframes back together\n",
    "final_df = pd.concat([non_null_values_df, null_values_df], ignore_index=True)\n",
    "\n",
    "final_df = final_df.drop_duplicates(keep='first')\n",
    "final_df = final_df.replace(\"Null\", np.nan)\n",
    "final_df = final_df.replace(\"None\", np.nan)\n",
    "final_df = final_df.replace(\"null\", np.nan)\n",
    "final_df = final_df.replace(\"none\", np.nan)\n",
    "final_df = final_df[final_df['name'].str.lower() != np.nan]\n",
    "\n",
    "final_df.reset_index(inplace=True, drop=True)\n",
    "\n",
    "\n",
    "# Save the final dataframe to a new CSV file\n",
    "final_df.to_parquet(\"\\\\\".join(os.path.dirname(os.path.abspath(\"__file__\")).split(\"\\\\\")[0:-1]) + \"\\\\data\\\\Structured data\\\\final_merged_drugs.parquet\", engine=\"fastparquet\", index=False)"
   ]
  }
 ],
 "metadata": {
  "kernelspec": {
   "display_name": "base",
   "language": "python",
   "name": "python3"
  },
  "language_info": {
   "codemirror_mode": {
    "name": "ipython",
    "version": 3
   },
   "file_extension": ".py",
   "mimetype": "text/x-python",
   "name": "python",
   "nbconvert_exporter": "python",
   "pygments_lexer": "ipython3",
   "version": "3.11.5"
  }
 },
 "nbformat": 4,
 "nbformat_minor": 2
}
