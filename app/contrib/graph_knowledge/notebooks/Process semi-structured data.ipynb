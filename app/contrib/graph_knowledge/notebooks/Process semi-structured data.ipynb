{
 "cells": [
  {
   "cell_type": "code",
   "execution_count": 1,
   "metadata": {},
   "outputs": [],
   "source": [
    "import pandas as pd\n",
    "import numpy as np\n",
    "import csv\n",
    "from lxml import etree\n",
    "from tqdm import tqdm\n",
    "import numpy as np\n",
    "import os"
   ]
  },
  {
   "cell_type": "code",
   "execution_count": 2,
   "metadata": {},
   "outputs": [],
   "source": [
    "xml_file = \"../data/Semi-structured data/full database.xml\""
   ]
  },
  {
   "cell_type": "code",
   "execution_count": 3,
   "metadata": {},
   "outputs": [
    {
     "ename": "",
     "evalue": "",
     "output_type": "error",
     "traceback": [
      "\u001b[1;31mThe Kernel crashed while executing code in the the current cell or a previous cell. Please review the code in the cell(s) to identify a possible cause of the failure. Click <a href='https://aka.ms/vscodeJupyterKernelCrash'>here</a> for more info. View Jupyter <a href='command:jupyter.viewOutput'>log</a> for further details."
     ]
    }
   ],
   "source": [
    "# Load and parse the XML file\n",
    "tree = etree.parse(xml_file)  # Replace with the path to your XML file\n",
    "\n",
    "namespaces = {'db': 'http://www.drugbank.ca'}  # 'db' is a prefix we assign to the namespace"
   ]
  },
  {
   "cell_type": "code",
   "execution_count": null,
   "metadata": {},
   "outputs": [],
   "source": [
    "def extract_primary_drug_id(drug_element):\n",
    "    \"\"\"\n",
    "    Extracts the primary drug-id.\n",
    "    \"\"\"\n",
    "    primary_drug_id = drug_element.find(\"db:drugbank-id[@primary='true']\", namespaces)\n",
    "    return primary_drug_id.text.strip() if primary_drug_id is not None and primary_drug_id.text else np.na"
   ]
  },
  {
   "cell_type": "code",
   "execution_count": null,
   "metadata": {},
   "outputs": [],
   "source": [
    "def extract_values(elements):\n",
    "    \"\"\"\n",
    "    Extracts text from multiple occurrences of an element and concatenates them using '|'.\n",
    "    Replaces missing elements with 'null' or an empty string.\n",
    "    \"\"\"\n",
    "    values = []\n",
    "    for elem in elements:\n",
    "        # Check if the element has text, and if not, use 'null' or an empty string\n",
    "        text = elem.text if elem.text is not None else 'null'\n",
    "        values.append(text)\n",
    "    return ' | '.join(values)"
   ]
  },
  {
   "cell_type": "code",
   "execution_count": null,
   "metadata": {},
   "outputs": [],
   "source": [
    "def extract_classification(drug_element):\n",
    "    \"\"\"\n",
    "    Extracts text from all sub-elements within 'classification' and concatenates them using '|'.\n",
    "    Handles multiple occurrences of the same sub-tag.\n",
    "    \"\"\"\n",
    "    classification = drug_element.find('db:classification', namespaces)\n",
    "    classification_data = {}\n",
    "    if classification is not None:\n",
    "        for subtag in classification:\n",
    "            tag_name = subtag.tag.split('}')[-1]\n",
    "            if tag_name in classification_data:\n",
    "                classification_data[tag_name] += f'|{subtag.text}'\n",
    "            else:\n",
    "                classification_data[tag_name] = subtag.text if subtag.text is not None else 'null'\n",
    "\n",
    "    # Rename 'description' to 'info about compound'\n",
    "    if 'description' in classification_data:\n",
    "        classification_data['info about compound'] = classification_data.pop('description')\n",
    "\n",
    "    return classification_data"
   ]
  },
  {
   "cell_type": "code",
   "execution_count": null,
   "metadata": {},
   "outputs": [],
   "source": [
    "def extract_synonyms(drug_element):\n",
    "    \"\"\"\n",
    "    Extracts text from all 'synonym' elements nested within 'synonyms'.\n",
    "    \"\"\"\n",
    "    synonyms = drug_element.find('db:synonyms', namespaces)\n",
    "    if synonyms is not None:\n",
    "        return ' | '.join([syn.text for syn in synonyms if syn.text is not None])\n",
    "    return 'null'\n"
   ]
  },
  {
   "cell_type": "code",
   "execution_count": null,
   "metadata": {},
   "outputs": [],
   "source": [
    "def extract_general_references(drug_element):\n",
    "    \"\"\"\n",
    "    Extracts specific data from 'general-references' within a drug element.\n",
    "    Handles empty 'articles' and 'links' sections correctly.\n",
    "    \"\"\"\n",
    "    general_references = drug_element.find('db:general-references', namespaces)\n",
    "    if general_references is not None:\n",
    "        pubmed_ids, citations, article_names, article_links = ([] for _ in range(4))\n",
    "\n",
    "        # Process articles\n",
    "        articles = general_references.find('db:articles', namespaces)\n",
    "        if articles is not None and articles.findall('db:article', namespaces):\n",
    "            for article in articles.findall('db:article', namespaces):\n",
    "                pubmed_id = article.findtext('db:pubmed-id', default='null', namespaces=namespaces)\n",
    "                citation = article.findtext('db:citation', default='null', namespaces=namespaces)\n",
    "                pubmed_ids.append(pubmed_id)\n",
    "                citations.append(citation)\n",
    "        else:\n",
    "            pubmed_ids.append('null')\n",
    "            citations.append('null')\n",
    "\n",
    "        # Process links\n",
    "        links = general_references.find('db:links', namespaces)\n",
    "        if links is not None and links.findall('db:link', namespaces):\n",
    "            for link in links.findall('db:link', namespaces):\n",
    "                title = link.findtext('db:title', default='null', namespaces=namespaces)\n",
    "                url = link.findtext('db:url', default='null', namespaces=namespaces)\n",
    "                article_names.append(title)\n",
    "                article_links.append(url)\n",
    "        else:\n",
    "            article_names.append('null')\n",
    "            article_links.append('null')\n",
    "\n",
    "        return {\n",
    "            'pubmed-id': ' | '.join(pubmed_ids),            \n",
    "            'citation': ' | '.join(citations),\n",
    "            'article name': ' | '.join(article_names),\n",
    "            'article link': ' | '.join(article_links)\n",
    "        }\n",
    "\n",
    "    return {'pubmed-id': 'null', 'citation': 'null', 'article name': 'null', 'article link': 'null'}\n"
   ]
  },
  {
   "cell_type": "code",
   "execution_count": null,
   "metadata": {},
   "outputs": [],
   "source": [
    "def extract_tag_content(drug_element, tag_name):\n",
    "    \"\"\"\n",
    "    Extracts text content from a specific tag within the drug element.\n",
    "    Returns 'null' if the tag is missing or empty.\n",
    "    \"\"\"\n",
    "    tag_element = drug_element.find(f'db:{tag_name}', namespaces)\n",
    "    return tag_element.text.strip() if tag_element is not None and tag_element.text else 'null'"
   ]
  },
  {
   "cell_type": "code",
   "execution_count": null,
   "metadata": {},
   "outputs": [],
   "source": [
    "def extract_product_info(product_element):\n",
    "    \"\"\"\n",
    "    Extracts information from each product tag within products.\n",
    "    Handles empty 'products' sections correctly.\n",
    "    \"\"\"\n",
    "    product_data = {\n",
    "        'medicine name': [],\n",
    "        'manufacturer': [],\n",
    "        'dosage form': [],\n",
    "        'dosage strength': [],\n",
    "        'route': [],\n",
    "        'Country of manufacture': [],\n",
    "        'medicine source': []\n",
    "    }\n",
    "\n",
    "    # Check if product_element is not None and has product children\n",
    "    if product_element is not None and product_element.findall('db:product', namespaces):\n",
    "        for product in product_element.findall('db:product', namespaces):\n",
    "            product_data['medicine name'].append(product.findtext('db:name', default='null', namespaces=namespaces))\n",
    "            product_data['manufacturer'].append(product.findtext('db:labeller', default='null', namespaces=namespaces))\n",
    "            product_data['dosage form'].append(product.findtext('db:dosage-form', default='null', namespaces=namespaces))\n",
    "            product_data['dosage strength'].append(product.findtext('db:strength', default='null', namespaces=namespaces))\n",
    "            product_data['route'].append(product.findtext('db:route', default='null', namespaces=namespaces))\n",
    "            product_data['Country of manufacture'].append(product.findtext('db:country', default='null', namespaces=namespaces))\n",
    "            product_data['medicine source'].append(product.findtext('db:source', default='null', namespaces=namespaces))\n",
    "    else:\n",
    "        # Append 'null' for each key if no product children are found\n",
    "        for key in product_data:\n",
    "            product_data[key].append('null')\n",
    "\n",
    "    # Concatenating values with '|'\n",
    "    for key in product_data:\n",
    "        values = product_data[key]\n",
    "        product_data[key] = '||'.join('null' if val == '' else val for val in values)\n",
    "\n",
    "    return product_data"
   ]
  },
  {
   "cell_type": "code",
   "execution_count": null,
   "metadata": {},
   "outputs": [],
   "source": [
    "# Find all 'drug' elements\n",
    "all_drug_elements = tree.findall('.//db:drug', namespaces)\n",
    "\n",
    "drugs_data = []\n",
    "classification_columns = set()\n",
    "all_classification_tags = [\n",
    "    'info about compound', 'direct-parent', 'kingdom', 'superclass', 'class', \n",
    "    'subclass', 'alternative-parent', 'substituent'\n",
    "]\n",
    "\n",
    "# Iterate over each drug element and extract information\n",
    "for drug in tqdm(all_drug_elements):\n",
    "    if drug.getparent().tag.split('}')[-1] == 'drugbank':\n",
    "        drug_data = {\n",
    "            'ID': extract_primary_drug_id(drug),\n",
    "            'name': extract_values(drug.findall('db:name', namespaces)),\n",
    "            'description': extract_values(drug.findall('db:description', namespaces)),\n",
    "            'state' : extract_tag_content(drug, 'state'),\n",
    "            'synonym': extract_synonyms(drug),\n",
    "            'synthesis-reference': extract_tag_content(drug, 'synthesis-reference'),\n",
    "            'indication': extract_tag_content(drug, 'indication'),\n",
    "            'pharmacodynamics': extract_tag_content(drug, 'pharmacodynamics'),\n",
    "            'mechanism-of-action': extract_tag_content(drug, 'mechanism-of-action'),\n",
    "            'toxicity': extract_tag_content(drug, 'toxicity'),\n",
    "            'metabolism': extract_tag_content(drug, 'metabolism'),\n",
    "            'absorption': extract_tag_content(drug, 'absorption'),\n",
    "            'half-life': extract_tag_content(drug, 'half-life'),\n",
    "            'protein-binding': extract_tag_content(drug, 'protein-binding'),\n",
    "            'route-of-elimination': extract_tag_content(drug, 'route-of-elimination'),\n",
    "            'volume-of-distribution': extract_tag_content(drug, 'volume-of-distribution'),\n",
    "            'clearance': extract_tag_content(drug, 'clearance'),\n",
    "            'average-mass' : extract_tag_content(drug, 'average-mass'),\n",
    "            'monoisotopic-mass' :  extract_tag_content(drug, 'monoisotopic-mass'),\n",
    "        }\n",
    "        products_element = drug.find('db:products', namespaces)\n",
    "        products_info = extract_product_info(products_element) if products_element is not None else {\n",
    "            'medicine name': 'null', 'manufacturer': 'null', 'dosage form': 'null', \n",
    "            'dosage strength': 'null', 'route': 'null', 'Country of manufacture': 'null', 'medicine source': 'null'\n",
    "        }\n",
    "\n",
    "        # Add classification data with all possible tags\n",
    "        classification_data = {tag: 'null' for tag in all_classification_tags}  # Initialize with 'null'\n",
    "        classification_data.update(extract_classification(drug))\n",
    "        general_references_data = extract_general_references(drug)\n",
    "        drug_data.update(products_info)\n",
    "\n",
    "        drugs_data.append(drug_data)\n",
    "        drug_data.update(classification_data)\n",
    "        drug_data.update(general_references_data)\n",
    "        classification_columns.update(classification_data.keys())\n"
   ]
  },
  {
   "cell_type": "code",
   "execution_count": null,
   "metadata": {},
   "outputs": [],
   "source": [
    "# Define CSV columns\n",
    "columns = ['ID', 'name', 'description', 'state', 'synonym', 'pubmed-id', 'citation', 'article name', 'article link'] + sorted(list(classification_columns)) + ['synthesis-reference', 'indication',\n",
    "    'pharmacodynamics', 'mechanism-of-action', 'toxicity', 'metabolism',\n",
    "    'absorption', 'half-life', 'protein-binding', 'route-of-elimination',\n",
    "    'volume-of-distribution', 'clearance', 'average-mass', 'monoisotopic-mass', 'medicine name', 'manufacturer', 'dosage form', 'dosage strength', 'route',\n",
    "    'Country of manufacture', 'medicine source']\n",
    "\n",
    "# Write to CSV\n",
    "\n",
    "with open(\"../data/Structured data/drugs.csv\", 'w', newline='', encoding='utf-8') as file:\n",
    "    writer = csv.DictWriter(file, fieldnames=columns)\n",
    "    writer.writeheader()\n",
    "    writer.writerows(drugs_data)"
   ]
  }
 ],
 "metadata": {
  "kernelspec": {
   "display_name": "base",
   "language": "python",
   "name": "python3"
  },
  "language_info": {
   "codemirror_mode": {
    "name": "ipython",
    "version": 3
   },
   "file_extension": ".py",
   "mimetype": "text/x-python",
   "name": "python",
   "nbconvert_exporter": "python",
   "pygments_lexer": "ipython3",
   "version": "3.10.12"
  }
 },
 "nbformat": 4,
 "nbformat_minor": 2
}
